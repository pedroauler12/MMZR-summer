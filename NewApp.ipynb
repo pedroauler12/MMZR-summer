{
 "cells": [
  {
   "cell_type": "code",
   "execution_count": 1,
   "id": "3ea7d729",
   "metadata": {},
   "outputs": [],
   "source": [
    "import pandas as pd\n",
    "import numpy as np\n",
    "import re \n",
    "from organizacao_fundos import df_tidy_simp"
   ]
  },
  {
   "cell_type": "code",
   "execution_count": 2,
   "id": "70e9c844",
   "metadata": {},
   "outputs": [
    {
     "name": "stderr",
     "output_type": "stream",
     "text": [
      "/Users/pedroauler/Desktop/MMZR-summer/limpeza.py:84: FutureWarning: DataFrame.applymap has been deprecated. Use DataFrame.map instead.\n",
      "  df_split = df_split.applymap(limpar_celula)\n"
     ]
    },
    {
     "name": "stdout",
     "output_type": "stream",
     "text": [
      "Ruído remanescente: 47.22%\n",
      "                                                                  808\n",
      "Promessa                                                           80\n",
      "%                                                                  58\n",
      "Obras                                                              56\n",
      "Coobrigação                                                        52\n",
      "Reserva                                                            48\n",
      "coobrigação                                                        44\n",
      "Reserva (02 PMTs)                                                  37\n",
      "Obra                                                               35\n",
      "cedente                                                            34\n",
      "Reserva (03 PMTs)                                                  34\n",
      "sócios pessoa física                                               31\n",
      "jurídica                                                           27\n",
      "direitos creditórios                                               26\n",
      "vendas futuras                                                     26\n",
      "empreendimento                                                     22\n",
      "sócios pessoa jurídica                                             21\n",
      "no valor                                                           21\n",
      "/                                                                  20\n",
      "% das quotas                                                       20\n",
      "Despesas                                                           16\n",
      "despesas                                                           16\n",
      "reserva                                                            15\n",
      "MM)                                                                13\n",
      "sócios Pessoa Física                                               12\n",
      "equipamentos                                                       11\n",
      "das vendas futuras                                                 11\n",
      "Emissora                                                           10\n",
      "R$                                                                 10\n",
      "unidades já vendidas                                               10\n",
      "Imóvel sobre o qual será desenvolvido o Empreendimento             10\n",
      "sócios PF                                                          10\n",
      "Cedente                                                            10\n",
      "Direitos Creditórios                                               10\n",
      "Despesas no valor                                                  10\n",
      "CRI                                                                 9\n",
      "PJ                                                                  9\n",
      "TMI                                                                 9\n",
      "PMTs                                                                9\n",
      "sócios pessoas físicas                                              8\n",
      "PMT                                                                 8\n",
      "projeto                                                             7\n",
      "empresa (pessoa física)                                             7\n",
      "se                                                                  7\n",
      "Habite                                                              7\n",
      "DireitosCreditórios                                                 7\n",
      "estoque após a emissão                                              7\n",
      "obras                                                               7\n",
      "imóvel onde está sendo desenvolvido o empreendimento (avaliado      7\n",
      "Empreendimento                                                      7\n",
      "% das vendas futuras                                                7\n",
      "Reserva (R$                                                         6\n",
      "jurídicas                                                           6\n",
      "comercialização                                                     5\n",
      "ações                                                               5\n",
      "volume                                                              4\n",
      "estacionamento                                                      4\n",
      "juros                                                               4\n",
      "saldo devedor                                                       4\n",
      "shopping                                                            4\n",
      "Name: count, dtype: int64\n",
      "0 tokens ainda fora da classificação:\n",
      "[]\n",
      "→ Gerando dicionários a partir de data/Estudo_de_Garantias_v3.xlsx\n",
      "Encontrados 15 aliases → código e 28 subclasses oficiais.\n",
      "→ Lendo data/garantias_limpas.csv\n",
      "→ Salvando resultado em data/garantias_cod.csv\n",
      "\n",
      "Amostra das primeiras 25 linhas depois do mapeamento:\n",
      "     Fundo       Ativo       G1   G2       G3   G4      G5   G6   G7   G8  \\\n",
      "0   VGIR11  22L1013767      spe   AF      NaN  NaN     NaN  NaN  NaN  NaN   \n",
      "1   VGIR11  22E1211649  terreno   AF      spe   CF     NaN  NaN  NaN  NaN   \n",
      "2   VGIR11  23K1511855      spe   AF        F  NaN     NaN  NaN  NaN  NaN   \n",
      "3   VGIR11  24A1828538   imovel   AF        A  NaN     NaN  NaN  NaN  NaN   \n",
      "4   VGIR11  22K1684666      spe   AF      NaN  NaN     NaN  NaN  NaN  NaN   \n",
      "5   VGIR11  22D0836679       CL  NaN      NaN  NaN     NaN  NaN  NaN  NaN   \n",
      "6   VGIR11  24G1972260   imovel   AF       CF    A     NaN  NaN  NaN  NaN   \n",
      "7   VGIR11  24E1753141   imovel   AF  terreno   CF       A  NaN  NaN  NaN   \n",
      "8   VGIR11  23J1928151   imovel   AF      spe   CF       F  NaN  NaN  NaN   \n",
      "9   VGIR11  21L0002653  terreno   AF      NaN  NaN     NaN  NaN  NaN  NaN   \n",
      "10  VGIR11  23F1688312  terreno   AF      spe   CF       A  NaN  NaN  NaN   \n",
      "11  VGIR11  20J0764341  terreno   AF      NaN  NaN     NaN  NaN  NaN  NaN   \n",
      "12  VGIR11  21F1076974      spe   AF      NaN  NaN     NaN  NaN  NaN  NaN   \n",
      "13  VGIR11  23D1611321  terreno   AF      spe   CF       A    F  NaN  NaN   \n",
      "14  VGIR11  22D0847835      spe   AF      NaN  NaN     NaN  NaN  NaN  NaN   \n",
      "15  VGIR11  23L1958573      spe   AF       CF    A     NaN  NaN  NaN  NaN   \n",
      "16  VGIR11  22K1377349       CF  NaN      NaN  NaN     NaN  NaN  NaN  NaN   \n",
      "17  VGIR11  21E0608916  terreno   AF      spe   CF  socios  NaN  NaN  NaN   \n",
      "18  VGIR11  22E1313665      spe   AF       CF    A     NaN  NaN  NaN  NaN   \n",
      "19  VGIR11  24I1148077  terreno   AF      NaN  NaN     NaN  NaN  NaN  NaN   \n",
      "20  VGIR11  23G1265217  terreno   AF      spe   CF       F  NaN  NaN  NaN   \n",
      "21  VGIR11  21F1076950      spe   AF      NaN  NaN     NaN  NaN  NaN  NaN   \n",
      "22  VGIR11  22B0512752  terreno   AF      spe    A     NaN  NaN  NaN  NaN   \n",
      "23  VGIR11  20J0764140  terreno   AF      NaN  NaN     NaN  NaN  NaN  NaN   \n",
      "24  VGIR11  22L0179634  terreno   AF      spe   CF       F  NaN  NaN  NaN   \n",
      "\n",
      "     G9  G10  G11  G12  \n",
      "0   NaN  NaN  NaN  NaN  \n",
      "1   NaN  NaN  NaN  NaN  \n",
      "2   NaN  NaN  NaN  NaN  \n",
      "3   NaN  NaN  NaN  NaN  \n",
      "4   NaN  NaN  NaN  NaN  \n",
      "5   NaN  NaN  NaN  NaN  \n",
      "6   NaN  NaN  NaN  NaN  \n",
      "7   NaN  NaN  NaN  NaN  \n",
      "8   NaN  NaN  NaN  NaN  \n",
      "9   NaN  NaN  NaN  NaN  \n",
      "10  NaN  NaN  NaN  NaN  \n",
      "11  NaN  NaN  NaN  NaN  \n",
      "12  NaN  NaN  NaN  NaN  \n",
      "13  NaN  NaN  NaN  NaN  \n",
      "14  NaN  NaN  NaN  NaN  \n",
      "15  NaN  NaN  NaN  NaN  \n",
      "16  NaN  NaN  NaN  NaN  \n",
      "17  NaN  NaN  NaN  NaN  \n",
      "18  NaN  NaN  NaN  NaN  \n",
      "19  NaN  NaN  NaN  NaN  \n",
      "20  NaN  NaN  NaN  NaN  \n",
      "21  NaN  NaN  NaN  NaN  \n",
      "22  NaN  NaN  NaN  NaN  \n",
      "23  NaN  NaN  NaN  NaN  \n",
      "24  NaN  NaN  NaN  NaN  \n"
     ]
    },
    {
     "name": "stderr",
     "output_type": "stream",
     "text": [
      "/Users/pedroauler/Desktop/MMZR-summer/limpeza.py:296: FutureWarning: The previous implementation of stack is deprecated and will be removed in a future version of pandas. See the What's New notes for pandas 2.1.0 for details. Specify future_stack=True to adopt the new implementation and silence this warning.\n",
      "  tokens_suspeitos = (gar_cols.stack(dropna=True)\n"
     ]
    }
   ],
   "source": [
    "from unidecode import unidecode                   # só para fallback eventual\n",
    "from organizacao_fundos import df_tidy_simp            # seu DataFrame financeiro\n",
    "from mapear_codigo import ALIAS2CODE , CODIGOS_OFICIAIS, SUBCLASSES_OFICIAIS , normalizar"
   ]
  },
  {
   "cell_type": "code",
   "execution_count": null,
   "id": "e41d3244",
   "metadata": {},
   "outputs": [
    {
     "ename": "FileNotFoundError",
     "evalue": "[Errno 2] No such file or directory: 'Estudo_de_Garantias_v3.xlsx'",
     "output_type": "error",
     "traceback": [
      "\u001b[0;31m---------------------------------------------------------------------------\u001b[0m",
      "\u001b[0;31mFileNotFoundError\u001b[0m                         Traceback (most recent call last)",
      "Cell \u001b[0;32mIn[3], line 1\u001b[0m\n\u001b[0;32m----> 1\u001b[0m df_dash  \u001b[38;5;241m=\u001b[39m \u001b[43mpd\u001b[49m\u001b[38;5;241;43m.\u001b[39;49m\u001b[43mread_excel\u001b[49m\u001b[43m(\u001b[49m\u001b[38;5;124;43m\"\u001b[39;49m\u001b[38;5;124;43mEstudo_de_Garantias_v3.xlsx\u001b[39;49m\u001b[38;5;124;43m\"\u001b[39;49m\u001b[43m,\u001b[49m\n\u001b[1;32m      2\u001b[0m \u001b[43m                         \u001b[49m\u001b[43msheet_name\u001b[49m\u001b[38;5;241;43m=\u001b[39;49m\u001b[38;5;124;43m\"\u001b[39;49m\u001b[38;5;124;43mDashboard\u001b[39;49m\u001b[38;5;124;43m\"\u001b[39;49m\u001b[43m,\u001b[49m\u001b[43m \u001b[49m\u001b[43mheader\u001b[49m\u001b[38;5;241;43m=\u001b[39;49m\u001b[38;5;241;43m1\u001b[39;49m\u001b[43m)\u001b[49m\n\u001b[1;32m      4\u001b[0m df_class \u001b[38;5;241m=\u001b[39m pd\u001b[38;5;241m.\u001b[39mread_excel(\u001b[38;5;124m\"\u001b[39m\u001b[38;5;124mEstudo_de_Garantias_v3.xlsx\u001b[39m\u001b[38;5;124m\"\u001b[39m,\n\u001b[1;32m      5\u001b[0m                          sheet_name\u001b[38;5;241m=\u001b[39m\u001b[38;5;124m\"\u001b[39m\u001b[38;5;124mClassificação\u001b[39m\u001b[38;5;124m\"\u001b[39m, header\u001b[38;5;241m=\u001b[39m\u001b[38;5;241m1\u001b[39m)\n\u001b[1;32m      7\u001b[0m \u001b[38;5;66;03m# garantias já limpas/tokenizadas (colunas G1 … Gn)\u001b[39;00m\n",
      "File \u001b[0;32m~/miniforge3/envs/mmzr_env/lib/python3.10/site-packages/pandas/io/excel/_base.py:495\u001b[0m, in \u001b[0;36mread_excel\u001b[0;34m(io, sheet_name, header, names, index_col, usecols, dtype, engine, converters, true_values, false_values, skiprows, nrows, na_values, keep_default_na, na_filter, verbose, parse_dates, date_parser, date_format, thousands, decimal, comment, skipfooter, storage_options, dtype_backend, engine_kwargs)\u001b[0m\n\u001b[1;32m    493\u001b[0m \u001b[38;5;28;01mif\u001b[39;00m \u001b[38;5;129;01mnot\u001b[39;00m \u001b[38;5;28misinstance\u001b[39m(io, ExcelFile):\n\u001b[1;32m    494\u001b[0m     should_close \u001b[38;5;241m=\u001b[39m \u001b[38;5;28;01mTrue\u001b[39;00m\n\u001b[0;32m--> 495\u001b[0m     io \u001b[38;5;241m=\u001b[39m \u001b[43mExcelFile\u001b[49m\u001b[43m(\u001b[49m\n\u001b[1;32m    496\u001b[0m \u001b[43m        \u001b[49m\u001b[43mio\u001b[49m\u001b[43m,\u001b[49m\n\u001b[1;32m    497\u001b[0m \u001b[43m        \u001b[49m\u001b[43mstorage_options\u001b[49m\u001b[38;5;241;43m=\u001b[39;49m\u001b[43mstorage_options\u001b[49m\u001b[43m,\u001b[49m\n\u001b[1;32m    498\u001b[0m \u001b[43m        \u001b[49m\u001b[43mengine\u001b[49m\u001b[38;5;241;43m=\u001b[39;49m\u001b[43mengine\u001b[49m\u001b[43m,\u001b[49m\n\u001b[1;32m    499\u001b[0m \u001b[43m        \u001b[49m\u001b[43mengine_kwargs\u001b[49m\u001b[38;5;241;43m=\u001b[39;49m\u001b[43mengine_kwargs\u001b[49m\u001b[43m,\u001b[49m\n\u001b[1;32m    500\u001b[0m \u001b[43m    \u001b[49m\u001b[43m)\u001b[49m\n\u001b[1;32m    501\u001b[0m \u001b[38;5;28;01melif\u001b[39;00m engine \u001b[38;5;129;01mand\u001b[39;00m engine \u001b[38;5;241m!=\u001b[39m io\u001b[38;5;241m.\u001b[39mengine:\n\u001b[1;32m    502\u001b[0m     \u001b[38;5;28;01mraise\u001b[39;00m \u001b[38;5;167;01mValueError\u001b[39;00m(\n\u001b[1;32m    503\u001b[0m         \u001b[38;5;124m\"\u001b[39m\u001b[38;5;124mEngine should not be specified when passing \u001b[39m\u001b[38;5;124m\"\u001b[39m\n\u001b[1;32m    504\u001b[0m         \u001b[38;5;124m\"\u001b[39m\u001b[38;5;124man ExcelFile - ExcelFile already has the engine set\u001b[39m\u001b[38;5;124m\"\u001b[39m\n\u001b[1;32m    505\u001b[0m     )\n",
      "File \u001b[0;32m~/miniforge3/envs/mmzr_env/lib/python3.10/site-packages/pandas/io/excel/_base.py:1550\u001b[0m, in \u001b[0;36mExcelFile.__init__\u001b[0;34m(self, path_or_buffer, engine, storage_options, engine_kwargs)\u001b[0m\n\u001b[1;32m   1548\u001b[0m     ext \u001b[38;5;241m=\u001b[39m \u001b[38;5;124m\"\u001b[39m\u001b[38;5;124mxls\u001b[39m\u001b[38;5;124m\"\u001b[39m\n\u001b[1;32m   1549\u001b[0m \u001b[38;5;28;01melse\u001b[39;00m:\n\u001b[0;32m-> 1550\u001b[0m     ext \u001b[38;5;241m=\u001b[39m \u001b[43minspect_excel_format\u001b[49m\u001b[43m(\u001b[49m\n\u001b[1;32m   1551\u001b[0m \u001b[43m        \u001b[49m\u001b[43mcontent_or_path\u001b[49m\u001b[38;5;241;43m=\u001b[39;49m\u001b[43mpath_or_buffer\u001b[49m\u001b[43m,\u001b[49m\u001b[43m \u001b[49m\u001b[43mstorage_options\u001b[49m\u001b[38;5;241;43m=\u001b[39;49m\u001b[43mstorage_options\u001b[49m\n\u001b[1;32m   1552\u001b[0m \u001b[43m    \u001b[49m\u001b[43m)\u001b[49m\n\u001b[1;32m   1553\u001b[0m     \u001b[38;5;28;01mif\u001b[39;00m ext \u001b[38;5;129;01mis\u001b[39;00m \u001b[38;5;28;01mNone\u001b[39;00m:\n\u001b[1;32m   1554\u001b[0m         \u001b[38;5;28;01mraise\u001b[39;00m \u001b[38;5;167;01mValueError\u001b[39;00m(\n\u001b[1;32m   1555\u001b[0m             \u001b[38;5;124m\"\u001b[39m\u001b[38;5;124mExcel file format cannot be determined, you must specify \u001b[39m\u001b[38;5;124m\"\u001b[39m\n\u001b[1;32m   1556\u001b[0m             \u001b[38;5;124m\"\u001b[39m\u001b[38;5;124man engine manually.\u001b[39m\u001b[38;5;124m\"\u001b[39m\n\u001b[1;32m   1557\u001b[0m         )\n",
      "File \u001b[0;32m~/miniforge3/envs/mmzr_env/lib/python3.10/site-packages/pandas/io/excel/_base.py:1402\u001b[0m, in \u001b[0;36minspect_excel_format\u001b[0;34m(content_or_path, storage_options)\u001b[0m\n\u001b[1;32m   1399\u001b[0m \u001b[38;5;28;01mif\u001b[39;00m \u001b[38;5;28misinstance\u001b[39m(content_or_path, \u001b[38;5;28mbytes\u001b[39m):\n\u001b[1;32m   1400\u001b[0m     content_or_path \u001b[38;5;241m=\u001b[39m BytesIO(content_or_path)\n\u001b[0;32m-> 1402\u001b[0m \u001b[38;5;28;01mwith\u001b[39;00m \u001b[43mget_handle\u001b[49m\u001b[43m(\u001b[49m\n\u001b[1;32m   1403\u001b[0m \u001b[43m    \u001b[49m\u001b[43mcontent_or_path\u001b[49m\u001b[43m,\u001b[49m\u001b[43m \u001b[49m\u001b[38;5;124;43m\"\u001b[39;49m\u001b[38;5;124;43mrb\u001b[39;49m\u001b[38;5;124;43m\"\u001b[39;49m\u001b[43m,\u001b[49m\u001b[43m \u001b[49m\u001b[43mstorage_options\u001b[49m\u001b[38;5;241;43m=\u001b[39;49m\u001b[43mstorage_options\u001b[49m\u001b[43m,\u001b[49m\u001b[43m \u001b[49m\u001b[43mis_text\u001b[49m\u001b[38;5;241;43m=\u001b[39;49m\u001b[38;5;28;43;01mFalse\u001b[39;49;00m\n\u001b[1;32m   1404\u001b[0m \u001b[43m\u001b[49m\u001b[43m)\u001b[49m \u001b[38;5;28;01mas\u001b[39;00m handle:\n\u001b[1;32m   1405\u001b[0m     stream \u001b[38;5;241m=\u001b[39m handle\u001b[38;5;241m.\u001b[39mhandle\n\u001b[1;32m   1406\u001b[0m     stream\u001b[38;5;241m.\u001b[39mseek(\u001b[38;5;241m0\u001b[39m)\n",
      "File \u001b[0;32m~/miniforge3/envs/mmzr_env/lib/python3.10/site-packages/pandas/io/common.py:882\u001b[0m, in \u001b[0;36mget_handle\u001b[0;34m(path_or_buf, mode, encoding, compression, memory_map, is_text, errors, storage_options)\u001b[0m\n\u001b[1;32m    873\u001b[0m         handle \u001b[38;5;241m=\u001b[39m \u001b[38;5;28mopen\u001b[39m(\n\u001b[1;32m    874\u001b[0m             handle,\n\u001b[1;32m    875\u001b[0m             ioargs\u001b[38;5;241m.\u001b[39mmode,\n\u001b[0;32m   (...)\u001b[0m\n\u001b[1;32m    878\u001b[0m             newline\u001b[38;5;241m=\u001b[39m\u001b[38;5;124m\"\u001b[39m\u001b[38;5;124m\"\u001b[39m,\n\u001b[1;32m    879\u001b[0m         )\n\u001b[1;32m    880\u001b[0m     \u001b[38;5;28;01melse\u001b[39;00m:\n\u001b[1;32m    881\u001b[0m         \u001b[38;5;66;03m# Binary mode\u001b[39;00m\n\u001b[0;32m--> 882\u001b[0m         handle \u001b[38;5;241m=\u001b[39m \u001b[38;5;28;43mopen\u001b[39;49m\u001b[43m(\u001b[49m\u001b[43mhandle\u001b[49m\u001b[43m,\u001b[49m\u001b[43m \u001b[49m\u001b[43mioargs\u001b[49m\u001b[38;5;241;43m.\u001b[39;49m\u001b[43mmode\u001b[49m\u001b[43m)\u001b[49m\n\u001b[1;32m    883\u001b[0m     handles\u001b[38;5;241m.\u001b[39mappend(handle)\n\u001b[1;32m    885\u001b[0m \u001b[38;5;66;03m# Convert BytesIO or file objects passed with an encoding\u001b[39;00m\n",
      "\u001b[0;31mFileNotFoundError\u001b[0m: [Errno 2] No such file or directory: 'Estudo_de_Garantias_v3.xlsx'"
     ]
    }
   ],
   "source": [
    "df_dash  = pd.read_excel(\"data/Estudo_de_Garantias_v3.xlsx\",\n",
    "                         sheet_name=\"Dashboard\", header=1)\n",
    "\n",
    "df_class = pd.read_excel(\"data/Estudo_de_Garantias_v3.xlsx\",\n",
    "                         sheet_name=\"Classificação\", header=1)\n",
    "\n",
    "# garantias já limpas/tokenizadas (colunas G1 … Gn)\n",
    "df_tokens = pd.read_csv(\"data/garantias_limpas.csv\")"
   ]
  },
  {
   "cell_type": "code",
   "execution_count": 17,
   "id": "e57d5083",
   "metadata": {},
   "outputs": [],
   "source": [
    "df_fin   = df_tidy_simp.copy()   # mantém Norm., %PL etc.\n",
    "df_all   = (\n",
    "    df_fin.merge(df_tokens, on=[\"Fundo\", \"Ativo\"], how=\"left\")\n",
    "           .reset_index(drop=True)\n",
    ")"
   ]
  },
  {
   "cell_type": "code",
   "execution_count": null,
   "id": "345723b2",
   "metadata": {},
   "outputs": [],
   "source": [
    "df_class['Subclasse_norm'] = df_class['Subclasse'].apply(normalizar)\n",
    "\n",
    "class_map = (df_class\n",
    "             .dropna(subset=['Subclasse_norm'])\n",
    "             .set_index(['Código', 'Subclasse_norm'])['Nota']\n",
    "             .to_dict())"
   ]
  },
  {
   "cell_type": "code",
   "execution_count": 19,
   "id": "4953c6d3",
   "metadata": {},
   "outputs": [],
   "source": [
    "SUB_NORM2CANON = {normalizar(s): s for s in SUBCLASSES_OFICIAIS}"
   ]
  },
  {
   "cell_type": "code",
   "execution_count": 20,
   "id": "b4080bb1",
   "metadata": {},
   "outputs": [],
   "source": [
    "def classifica_token(tok: str):\n",
    "    \"\"\"\n",
    "    Recebe um token bruto (já limpo) e devolve:\n",
    "      - {\"code\": \"AF\"}              se for código ou alias de código\n",
    "      - {\"sub\":  \"Imóvel\"}          se for subclasse oficial\n",
    "      - {}                          caso contrário\n",
    "    \"\"\"\n",
    "    if pd.isna(tok) or tok == \"\":\n",
    "        return {}\n",
    "\n",
    "    # 1) código oficial puro (duas ou três letras, etc.)\n",
    "    if tok.upper() in CODIGOS_OFICIAIS:\n",
    "        return {\"code\": tok.upper()}\n",
    "\n",
    "    # 2) alias que mapeia para código\n",
    "    tok_norm = normalizar(tok)\n",
    "    if tok_norm in ALIAS2CODE:\n",
    "        return {\"code\": ALIAS2CODE[tok_norm]}\n",
    "\n",
    "    # 3) subclasse oficial\n",
    "    if tok_norm in SUB_NORM2CANON:\n",
    "        return {\"sub\": SUB_NORM2CANON[tok_norm]}\n",
    "\n",
    "    # ruído\n",
    "    return {}"
   ]
  },
  {
   "cell_type": "code",
   "execution_count": 21,
   "id": "91c11311",
   "metadata": {},
   "outputs": [],
   "source": [
    "def tokens_da_linha(row) -> tuple[list[str], list[str]]:\n",
    "    \"\"\"Extrai listas (codes, subs) a partir das colunas G1…Gn da linha.\"\"\"\n",
    "    codes, subs = [], []\n",
    "    for col in row.index:\n",
    "        if not col.startswith(\"G\"):\n",
    "            continue\n",
    "        tok = row[col]\n",
    "        info = classifica_token(tok)\n",
    "        if \"code\" in info and info[\"code\"] not in codes:\n",
    "            codes.append(info[\"code\"])\n",
    "        if \"sub\"  in info and info[\"sub\"]  not in subs:\n",
    "            subs.append(info[\"sub\"])\n",
    "    return codes, subs"
   ]
  },
  {
   "cell_type": "code",
   "execution_count": 22,
   "id": "59fc4127",
   "metadata": {},
   "outputs": [],
   "source": [
    "def nota_para_linha(codes: list[str], subs: list[str]) -> float:\n",
    "    \"\"\"Escolhe a melhor nota possível para a combinação codes × subs.\"\"\"\n",
    "    notas = []\n",
    "    for c in codes:\n",
    "        for s in subs:\n",
    "            notas.append(class_map.get((c, s), np.nan))\n",
    "    notas_validas = [n for n in notas if not np.isnan(n)]\n",
    "\n",
    "    if notas_validas:\n",
    "        return float(np.nanmax(notas_validas))\n",
    "\n",
    "    # fallback: pega a melhor nota do código ignorando subclasse\n",
    "    notas_code_only = [\n",
    "        v for (cod, sub), v in class_map.items()\n",
    "        if cod in codes and not pd.isna(v)\n",
    "    ]\n",
    "    if notas_code_only:\n",
    "        return float(np.nanmax(notas_code_only))\n",
    "\n",
    "    return np.nan"
   ]
  },
  {
   "cell_type": "code",
   "execution_count": 23,
   "id": "4c06cdce",
   "metadata": {},
   "outputs": [],
   "source": [
    "def calculo_score(norm , nota_calculada):\n",
    "    produto = norm * nota_calculada\n",
    "    soma = produto.sum()\n",
    "    return soma /0.03"
   ]
  },
  {
   "cell_type": "code",
   "execution_count": 24,
   "id": "f1167917",
   "metadata": {},
   "outputs": [],
   "source": [
    "codes_and_subs = df_all.filter(like=\"G\").columns      # salva a lista de colunas G*\n",
    "\n",
    "df_all[[\"codes\", \"subs\"]] = (\n",
    "    df_all[codes_and_subs]\n",
    "      .apply(tokens_da_linha, axis=1, result_type=\"expand\")\n",
    ")\n",
    "\n",
    "df_all[\"Nota_calculada\"] = df_all.apply(\n",
    "    lambda r: nota_para_linha(r[\"codes\"], r[\"subs\"]), axis=1\n",
    ")"
   ]
  },
  {
   "cell_type": "code",
   "execution_count": 25,
   "id": "8296cd2e",
   "metadata": {},
   "outputs": [],
   "source": [
    "scores = (\n",
    "    df_all.groupby(\"Fundo\", sort=False)[[\"Norm.\", \"Nota_calculada\"]]\n",
    "          .apply(lambda g: calculo_score(g[\"Norm.\"], g[\"Nota_calculada\"]))\n",
    ")\n"
   ]
  },
  {
   "cell_type": "code",
   "execution_count": 26,
   "id": "7d4bb148",
   "metadata": {},
   "outputs": [
    {
     "name": "stdout",
     "output_type": "stream",
     "text": [
      "─── Scores por Fundo ───\n",
      "VGIR11: 92.41\n",
      "MXRF11: 92.73\n",
      "RBRY11: 96.03\n",
      "KNCR11: 95.52\n",
      "RBRR11: 93.10\n",
      "CPTR11: 50.78\n",
      "KNCA11: 50.36\n",
      "RURA11: 1966.67\n",
      "KNSC11: 90.45\n",
      "BODB11: 93.11\n",
      "KNUQ11: 61.91\n",
      "HABT11: 98.45\n"
     ]
    }
   ],
   "source": [
    "print(\"─── Scores por Fundo ───\")\n",
    "for fundo, val in scores.items():\n",
    "    print(f\"{fundo}: {val:.2f}\")"
   ]
  },
  {
   "cell_type": "code",
   "execution_count": null,
   "id": "a52e3739",
   "metadata": {},
   "outputs": [],
   "source": []
  },
  {
   "cell_type": "code",
   "execution_count": null,
   "id": "08f86305",
   "metadata": {},
   "outputs": [],
   "source": []
  },
  {
   "cell_type": "code",
   "execution_count": null,
   "id": "f2769aad",
   "metadata": {},
   "outputs": [],
   "source": []
  }
 ],
 "metadata": {
  "kernelspec": {
   "display_name": "mmzr_env",
   "language": "python",
   "name": "python3"
  },
  "language_info": {
   "codemirror_mode": {
    "name": "ipython",
    "version": 3
   },
   "file_extension": ".py",
   "mimetype": "text/x-python",
   "name": "python",
   "nbconvert_exporter": "python",
   "pygments_lexer": "ipython3",
   "version": "3.10.18"
  }
 },
 "nbformat": 4,
 "nbformat_minor": 5
}
