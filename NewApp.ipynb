{
 "cells": [
  {
   "cell_type": "code",
   "execution_count": 14,
   "id": "3ea7d729",
   "metadata": {},
   "outputs": [],
   "source": [
    "import pandas as pd\n",
    "import numpy as np\n",
    "import re \n",
    "from codigo_limpo import df_tidy_simp"
   ]
  },
  {
   "cell_type": "code",
   "execution_count": 15,
   "id": "70e9c844",
   "metadata": {},
   "outputs": [],
   "source": [
    "from unidecode import unidecode                   # só para fallback eventual\n",
    "from codigo_limpo import df_tidy_simp            # seu DataFrame financeiro\n",
    "from mapear_codigo import ALIAS2CODE , CODIGOS_OFICIAIS, SUBCLASSES_OFICIAIS , normalizar"
   ]
  },
  {
   "cell_type": "code",
   "execution_count": 16,
   "id": "e41d3244",
   "metadata": {},
   "outputs": [],
   "source": [
    "df_dash  = pd.read_excel(\"Estudo_de_Garantias_v3.xlsx\",\n",
    "                         sheet_name=\"Dashboard\", header=1)\n",
    "\n",
    "df_class = pd.read_excel(\"Estudo_de_Garantias_v3.xlsx\",\n",
    "                         sheet_name=\"Classificação\", header=1)\n",
    "\n",
    "# garantias já limpas/tokenizadas (colunas G1 … Gn)\n",
    "df_tokens = pd.read_csv(\"garantias_limpas.csv\")"
   ]
  },
  {
   "cell_type": "code",
   "execution_count": 17,
   "id": "e57d5083",
   "metadata": {},
   "outputs": [],
   "source": [
    "df_fin   = df_tidy_simp.copy()   # mantém Norm., %PL etc.\n",
    "df_all   = (\n",
    "    df_fin.merge(df_tokens, on=[\"Fundo\", \"Ativo\"], how=\"left\")\n",
    "           .reset_index(drop=True)\n",
    ")"
   ]
  },
  {
   "cell_type": "code",
   "execution_count": 18,
   "id": "345723b2",
   "metadata": {},
   "outputs": [],
   "source": [
    "class_map = (\n",
    "    df_class\n",
    "    .dropna(subset=['Subclasse'])\n",
    "    .set_index(['Código','Subclasse'])['Nota']\n",
    "    .to_dict()\n",
    ")"
   ]
  },
  {
   "cell_type": "code",
   "execution_count": 19,
   "id": "4953c6d3",
   "metadata": {},
   "outputs": [],
   "source": [
    "SUB_NORM2CANON = {normalizar(s): s for s in SUBCLASSES_OFICIAIS}"
   ]
  },
  {
   "cell_type": "code",
   "execution_count": 20,
   "id": "b4080bb1",
   "metadata": {},
   "outputs": [],
   "source": [
    "def classifica_token(tok: str):\n",
    "    \"\"\"\n",
    "    Recebe um token bruto (já limpo) e devolve:\n",
    "      - {\"code\": \"AF\"}              se for código ou alias de código\n",
    "      - {\"sub\":  \"Imóvel\"}          se for subclasse oficial\n",
    "      - {}                          caso contrário\n",
    "    \"\"\"\n",
    "    if pd.isna(tok) or tok == \"\":\n",
    "        return {}\n",
    "\n",
    "    # 1) código oficial puro (duas ou três letras, etc.)\n",
    "    if tok.upper() in CODIGOS_OFICIAIS:\n",
    "        return {\"code\": tok.upper()}\n",
    "\n",
    "    # 2) alias que mapeia para código\n",
    "    tok_norm = normalizar(tok)\n",
    "    if tok_norm in ALIAS2CODE:\n",
    "        return {\"code\": ALIAS2CODE[tok_norm]}\n",
    "\n",
    "    # 3) subclasse oficial\n",
    "    if tok_norm in SUB_NORM2CANON:\n",
    "        return {\"sub\": SUB_NORM2CANON[tok_norm]}\n",
    "\n",
    "    # ruído\n",
    "    return {}"
   ]
  },
  {
   "cell_type": "code",
   "execution_count": 21,
   "id": "91c11311",
   "metadata": {},
   "outputs": [],
   "source": [
    "def tokens_da_linha(row) -> tuple[list[str], list[str]]:\n",
    "    \"\"\"Extrai listas (codes, subs) a partir das colunas G1…Gn da linha.\"\"\"\n",
    "    codes, subs = [], []\n",
    "    for col in row.index:\n",
    "        if not col.startswith(\"G\"):\n",
    "            continue\n",
    "        tok = row[col]\n",
    "        info = classifica_token(tok)\n",
    "        if \"code\" in info and info[\"code\"] not in codes:\n",
    "            codes.append(info[\"code\"])\n",
    "        if \"sub\"  in info and info[\"sub\"]  not in subs:\n",
    "            subs.append(info[\"sub\"])\n",
    "    return codes, subs"
   ]
  },
  {
   "cell_type": "code",
   "execution_count": 22,
   "id": "59fc4127",
   "metadata": {},
   "outputs": [],
   "source": [
    "def nota_para_linha(codes: list[str], subs: list[str]) -> float:\n",
    "    \"\"\"Escolhe a melhor nota possível para a combinação codes × subs.\"\"\"\n",
    "    notas = []\n",
    "    for c in codes:\n",
    "        for s in subs:\n",
    "            notas.append(class_map.get((c, s), np.nan))\n",
    "    notas_validas = [n for n in notas if not np.isnan(n)]\n",
    "\n",
    "    if notas_validas:\n",
    "        return float(np.nanmax(notas_validas))\n",
    "\n",
    "    # fallback: pega a melhor nota do código ignorando subclasse\n",
    "    notas_code_only = [\n",
    "        v for (cod, sub), v in class_map.items()\n",
    "        if cod in codes and not pd.isna(v)\n",
    "    ]\n",
    "    if notas_code_only:\n",
    "        return float(np.nanmax(notas_code_only))\n",
    "\n",
    "    return np.nan"
   ]
  },
  {
   "cell_type": "code",
   "execution_count": 23,
   "id": "4c06cdce",
   "metadata": {},
   "outputs": [],
   "source": [
    "def calculo_score(norm , nota_calculada):\n",
    "    produto = norm * nota_calculada\n",
    "    soma = produto.sum()\n",
    "    return soma /0.03"
   ]
  },
  {
   "cell_type": "code",
   "execution_count": 24,
   "id": "f1167917",
   "metadata": {},
   "outputs": [],
   "source": [
    "codes_and_subs = df_all.filter(like=\"G\").columns      # salva a lista de colunas G*\n",
    "\n",
    "df_all[[\"codes\", \"subs\"]] = (\n",
    "    df_all[codes_and_subs]\n",
    "      .apply(tokens_da_linha, axis=1, result_type=\"expand\")\n",
    ")\n",
    "\n",
    "df_all[\"Nota_calculada\"] = df_all.apply(\n",
    "    lambda r: nota_para_linha(r[\"codes\"], r[\"subs\"]), axis=1\n",
    ")"
   ]
  },
  {
   "cell_type": "code",
   "execution_count": 25,
   "id": "8296cd2e",
   "metadata": {},
   "outputs": [],
   "source": [
    "scores = (\n",
    "    df_all.groupby(\"Fundo\", sort=False)[[\"Norm.\", \"Nota_calculada\"]]\n",
    "          .apply(lambda g: calculo_score(g[\"Norm.\"], g[\"Nota_calculada\"]))\n",
    ")\n"
   ]
  },
  {
   "cell_type": "code",
   "execution_count": 26,
   "id": "7d4bb148",
   "metadata": {},
   "outputs": [
    {
     "name": "stdout",
     "output_type": "stream",
     "text": [
      "─── Scores por Fundo ───\n",
      "VGIR11: 92.41\n",
      "MXRF11: 92.73\n",
      "RBRY11: 96.03\n",
      "KNCR11: 95.52\n",
      "RBRR11: 93.10\n",
      "CPTR11: 50.78\n",
      "KNCA11: 50.36\n",
      "RURA11: 1966.67\n",
      "KNSC11: 90.45\n",
      "BODB11: 93.11\n",
      "KNUQ11: 61.91\n",
      "HABT11: 98.45\n"
     ]
    }
   ],
   "source": [
    "print(\"─── Scores por Fundo ───\")\n",
    "for fundo, val in scores.items():\n",
    "    print(f\"{fundo}: {val:.2f}\")"
   ]
  },
  {
   "cell_type": "code",
   "execution_count": null,
   "id": "a52e3739",
   "metadata": {},
   "outputs": [],
   "source": []
  },
  {
   "cell_type": "code",
   "execution_count": null,
   "id": "08f86305",
   "metadata": {},
   "outputs": [],
   "source": []
  },
  {
   "cell_type": "code",
   "execution_count": null,
   "id": "f2769aad",
   "metadata": {},
   "outputs": [],
   "source": []
  }
 ],
 "metadata": {
  "kernelspec": {
   "display_name": "mmzr_env",
   "language": "python",
   "name": "python3"
  },
  "language_info": {
   "codemirror_mode": {
    "name": "ipython",
    "version": 3
   },
   "file_extension": ".py",
   "mimetype": "text/x-python",
   "name": "python",
   "nbconvert_exporter": "python",
   "pygments_lexer": "ipython3",
   "version": "3.10.18"
  }
 },
 "nbformat": 4,
 "nbformat_minor": 5
}
