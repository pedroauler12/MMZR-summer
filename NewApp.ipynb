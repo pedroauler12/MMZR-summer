{
 "cells": [
  {
   "cell_type": "code",
   "execution_count": 1,
   "id": "3ea7d729",
   "metadata": {},
   "outputs": [],
   "source": [
    "import pandas as pd\n",
    "import numpy as np\n",
    "import re \n",
    "from codigo_limpo import df_tidy_simp"
   ]
  },
  {
   "cell_type": "code",
   "execution_count": 2,
   "id": "e41d3244",
   "metadata": {},
   "outputs": [],
   "source": [
    "df_dash = pd.read_excel('Estudo_de_Garantias_v3.xlsx', sheet_name='Dashboard', header=1)\n",
    "df_class = pd.read_excel('Estudo_de_Garantias_v3.xlsx', sheet_name='Classificação', header =1)\n",
    "df_simp = df_tidy_simp.copy()  "
   ]
  },
  {
   "cell_type": "code",
   "execution_count": 3,
   "id": "345723b2",
   "metadata": {},
   "outputs": [],
   "source": [
    "class_map = (\n",
    "    df_class\n",
    "    .dropna(subset=['Subclasse'])\n",
    "    .set_index(['Código','Subclasse'])['Nota']\n",
    "    .to_dict()\n",
    ")"
   ]
  },
  {
   "cell_type": "code",
   "execution_count": 4,
   "id": "4953c6d3",
   "metadata": {},
   "outputs": [
    {
     "data": {
      "text/html": [
       "<div>\n",
       "<style scoped>\n",
       "    .dataframe tbody tr th:only-of-type {\n",
       "        vertical-align: middle;\n",
       "    }\n",
       "\n",
       "    .dataframe tbody tr th {\n",
       "        vertical-align: top;\n",
       "    }\n",
       "\n",
       "    .dataframe thead th {\n",
       "        text-align: right;\n",
       "    }\n",
       "</style>\n",
       "<table border=\"1\" class=\"dataframe\">\n",
       "  <thead>\n",
       "    <tr style=\"text-align: right;\">\n",
       "      <th></th>\n",
       "      <th>Código</th>\n",
       "      <th>Subclasse</th>\n",
       "      <th>Nota</th>\n",
       "    </tr>\n",
       "  </thead>\n",
       "  <tbody>\n",
       "    <tr>\n",
       "      <th>0</th>\n",
       "      <td>AF</td>\n",
       "      <td>SPE</td>\n",
       "      <td>2.0</td>\n",
       "    </tr>\n",
       "    <tr>\n",
       "      <th>1</th>\n",
       "      <td>AF</td>\n",
       "      <td>Terreno e SPE + CF</td>\n",
       "      <td>3.0</td>\n",
       "    </tr>\n",
       "    <tr>\n",
       "      <th>2</th>\n",
       "      <td>AF</td>\n",
       "      <td>SPE + Fiança</td>\n",
       "      <td>2.0</td>\n",
       "    </tr>\n",
       "    <tr>\n",
       "      <th>3</th>\n",
       "      <td>AF</td>\n",
       "      <td>Imóvel + Aval</td>\n",
       "      <td>3.0</td>\n",
       "    </tr>\n",
       "    <tr>\n",
       "      <th>4</th>\n",
       "      <td>AF</td>\n",
       "      <td>SPE</td>\n",
       "      <td>2.0</td>\n",
       "    </tr>\n",
       "    <tr>\n",
       "      <th>5</th>\n",
       "      <td>clean</td>\n",
       "      <td>None</td>\n",
       "      <td>0.0</td>\n",
       "    </tr>\n",
       "    <tr>\n",
       "      <th>6</th>\n",
       "      <td>AF</td>\n",
       "      <td>Imóvel + CF + Coobrigação + Aval</td>\n",
       "      <td>3.0</td>\n",
       "    </tr>\n",
       "    <tr>\n",
       "      <th>7</th>\n",
       "      <td>AF</td>\n",
       "      <td>Imóvel e Terreno + CF + Aval</td>\n",
       "      <td>3.0</td>\n",
       "    </tr>\n",
       "    <tr>\n",
       "      <th>8</th>\n",
       "      <td>AF</td>\n",
       "      <td>Imóvel e SPE + CF + Fiança</td>\n",
       "      <td>3.0</td>\n",
       "    </tr>\n",
       "    <tr>\n",
       "      <th>9</th>\n",
       "      <td>AF</td>\n",
       "      <td>Terreno</td>\n",
       "      <td>3.0</td>\n",
       "    </tr>\n",
       "  </tbody>\n",
       "</table>\n",
       "</div>"
      ],
      "text/plain": [
       "  Código                         Subclasse  Nota\n",
       "0     AF                               SPE   2.0\n",
       "1     AF                Terreno e SPE + CF   3.0\n",
       "2     AF                      SPE + Fiança   2.0\n",
       "3     AF                    Imóvel + Aval    3.0\n",
       "4     AF                               SPE   2.0\n",
       "5  clean                              None   0.0\n",
       "6     AF  Imóvel + CF + Coobrigação + Aval   3.0\n",
       "7     AF      Imóvel e Terreno + CF + Aval   3.0\n",
       "8     AF        Imóvel e SPE + CF + Fiança   3.0\n",
       "9     AF                           Terreno   3.0"
      ]
     },
     "execution_count": 4,
     "metadata": {},
     "output_type": "execute_result"
    }
   ],
   "source": [
    "df_simp[['Código', 'Subclasse']] =df_simp['Garantia'].str.split(' ',n=1, expand=True)\n",
    "df_simp[['Código', 'Subclasse', 'Nota']].head(10)"
   ]
  },
  {
   "cell_type": "code",
   "execution_count": 5,
   "id": "b4080bb1",
   "metadata": {},
   "outputs": [],
   "source": [
    "def split_subclasses(sub):\n",
    "    if pd.isna(sub):\n",
    "        return \"sem subclasse\"\n",
    "    parts = re.split(r'\\s*(?:\\+|#| e )\\s*', sub)\n",
    "    return [p.strip() for p in parts if p.strip()]"
   ]
  },
  {
   "cell_type": "code",
   "execution_count": 6,
   "id": "91c11311",
   "metadata": {},
   "outputs": [],
   "source": [
    "def upperLetter(sub):\n",
    "    if pd.isna(sub) or not isinstance(sub, str):\n",
    "        return sub\n",
    "    if sub and sub[0].isupper() == False:\n",
    "        return sub[0].upper() + sub[1:]\n",
    "    return sub\n"
   ]
  },
  {
   "cell_type": "code",
   "execution_count": 7,
   "id": "59fc4127",
   "metadata": {},
   "outputs": [],
   "source": [
    "def select_best_note(code, parts):\n",
    "    notes = [class_map.get((code, p), np.nan) for p in parts]\n",
    "    valid_notes = [n for n in notes if not np.isnan(n)]\n",
    "    if valid_notes:\n",
    "        return np.nanmax(valid_notes)\n",
    "    notes_for_code = [\n",
    "        v\n",
    "        for (c, p), v in class_map.items()\n",
    "        if c == code and not pd.isna(v)\n",
    "    ]\n",
    "    if notes_for_code:\n",
    "        return np.nanmax(notes_for_code)\n",
    "    return np.nan\n"
   ]
  },
  {
   "cell_type": "code",
   "execution_count": 8,
   "id": "01513ef8",
   "metadata": {},
   "outputs": [],
   "source": [
    "def get_best_note(row):\n",
    "    code = row['Código']\n",
    "    sub  = row['Subclasse']\n",
    "    \n",
    "    # 1) tokeniza\n",
    "    parts = split_subclasses(sub)\n",
    "    # split_subclasses retorna lista ou a string \"sem subclasse\"\n",
    "    if parts == \"sem subclasse\":\n",
    "        parts_list = []\n",
    "    else:\n",
    "        parts_list = parts\n",
    "    \n",
    "    # 2) normaliza\n",
    "    parts_list = [upperLetter(p) for p in parts_list]\n",
    "    \n",
    "    # 3) seleciona nota\n",
    "    return select_best_note(code, parts_list)"
   ]
  },
  {
   "cell_type": "code",
   "execution_count": 9,
   "id": "74d17516",
   "metadata": {},
   "outputs": [],
   "source": [
    "df_simp['Nota_calculada'] = df_simp.apply(get_best_note, axis=1)\n"
   ]
  },
  {
   "cell_type": "code",
   "execution_count": 10,
   "id": "4c06cdce",
   "metadata": {},
   "outputs": [],
   "source": [
    "def calculo_score(norm , nota_calculada):\n",
    "    produto = norm * nota_calculada\n",
    "    soma = produto.sum()\n",
    "    return soma /0.03"
   ]
  },
  {
   "cell_type": "code",
   "execution_count": 14,
   "id": "f1167917",
   "metadata": {},
   "outputs": [
    {
     "data": {
      "text/plain": [
       "np.float64(80.93907184626035)"
      ]
     },
     "execution_count": 14,
     "metadata": {},
     "output_type": "execute_result"
    }
   ],
   "source": [
    "fundo_teste = 'VGIR11'   # ou MXRF11, RBRY11, etc.\n",
    "\n",
    "# filtra só as linhas desse fundo\n",
    "df_debug = df_simp[df_simp['Fundo'] == fundo_teste]\n",
    "\n",
    "# mostra os 10 primeiros ativos com suas colunas relevantes\n",
    "df_debug[['Ativo', 'Garantia', 'Norm.', 'Nota_calculada', 'Nota']].head(50)\n",
    "\n",
    "score_debug = calculo_score(df_debug['Norm.'], df_debug['Nota_calculada'])\n",
    "score_debug"
   ]
  },
  {
   "cell_type": "code",
   "execution_count": 12,
   "id": "8296cd2e",
   "metadata": {},
   "outputs": [],
   "source": [
    "scores = (\n",
    "    df_simp\n",
    "    .groupby('Fundo', sort=False)[['Norm.', 'Nota_calculada']]\n",
    "    .apply(lambda g: calculo_score(g['Norm.'], g['Nota_calculada']))\n",
    ")\n"
   ]
  },
  {
   "cell_type": "code",
   "execution_count": 13,
   "id": "7d4bb148",
   "metadata": {},
   "outputs": [
    {
     "name": "stdout",
     "output_type": "stream",
     "text": [
      "VGIR11: 80.94\n",
      "MXRF11: 0.00\n",
      "RBRY11: 94.61\n",
      "KNCR11: 27.44\n",
      "RBRR11: 88.00\n",
      "CPTR11: 36.86\n",
      "KNCA11: 45.55\n",
      "RURA11: 47.95\n",
      "KNSC11: 17.41\n",
      "BODB11: 0.00\n",
      "KNUQ11: 15.97\n",
      "HABT11: 1.43\n"
     ]
    }
   ],
   "source": [
    "for fundo, val in scores.items():\n",
    "    print(f\"{fundo}: {val:.2f}\")"
   ]
  },
  {
   "cell_type": "code",
   "execution_count": null,
   "id": "a52e3739",
   "metadata": {},
   "outputs": [],
   "source": []
  },
  {
   "cell_type": "code",
   "execution_count": null,
   "id": "08f86305",
   "metadata": {},
   "outputs": [],
   "source": []
  },
  {
   "cell_type": "code",
   "execution_count": null,
   "id": "f2769aad",
   "metadata": {},
   "outputs": [],
   "source": []
  }
 ],
 "metadata": {
  "kernelspec": {
   "display_name": "mmzr_env",
   "language": "python",
   "name": "python3"
  },
  "language_info": {
   "codemirror_mode": {
    "name": "ipython",
    "version": 3
   },
   "file_extension": ".py",
   "mimetype": "text/x-python",
   "name": "python",
   "nbconvert_exporter": "python",
   "pygments_lexer": "ipython3",
   "version": "3.10.18"
  }
 },
 "nbformat": 4,
 "nbformat_minor": 5
}
