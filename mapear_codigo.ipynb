{
 "cells": [
  {
   "cell_type": "code",
   "execution_count": 1,
   "id": "ce2098be",
   "metadata": {},
   "outputs": [
    {
     "name": "stderr",
     "output_type": "stream",
     "text": [
      "/Users/pedroauler/Desktop/MMZR-summer/limpeza.py:84: FutureWarning: DataFrame.applymap has been deprecated. Use DataFrame.map instead.\n",
      "  df_split = df_split.applymap(limpar_celula)\n"
     ]
    },
    {
     "name": "stdout",
     "output_type": "stream",
     "text": [
      "Ruído remanescente: 47.22%\n",
      "                                                                  808\n",
      "Promessa                                                           80\n",
      "%                                                                  58\n",
      "Obras                                                              56\n",
      "Coobrigação                                                        52\n",
      "Reserva                                                            48\n",
      "coobrigação                                                        44\n",
      "Reserva (02 PMTs)                                                  37\n",
      "Obra                                                               35\n",
      "cedente                                                            34\n",
      "Reserva (03 PMTs)                                                  34\n",
      "sócios pessoa física                                               31\n",
      "jurídica                                                           27\n",
      "direitos creditórios                                               26\n",
      "vendas futuras                                                     26\n",
      "empreendimento                                                     22\n",
      "sócios pessoa jurídica                                             21\n",
      "no valor                                                           21\n",
      "/                                                                  20\n",
      "% das quotas                                                       20\n",
      "Despesas                                                           16\n",
      "despesas                                                           16\n",
      "reserva                                                            15\n",
      "MM)                                                                13\n",
      "sócios Pessoa Física                                               12\n",
      "equipamentos                                                       11\n",
      "das vendas futuras                                                 11\n",
      "Emissora                                                           10\n",
      "R$                                                                 10\n",
      "unidades já vendidas                                               10\n",
      "Imóvel sobre o qual será desenvolvido o Empreendimento             10\n",
      "sócios PF                                                          10\n",
      "Cedente                                                            10\n",
      "Direitos Creditórios                                               10\n",
      "Despesas no valor                                                  10\n",
      "CRI                                                                 9\n",
      "PJ                                                                  9\n",
      "TMI                                                                 9\n",
      "PMTs                                                                9\n",
      "sócios pessoas físicas                                              8\n",
      "PMT                                                                 8\n",
      "projeto                                                             7\n",
      "empresa (pessoa física)                                             7\n",
      "se                                                                  7\n",
      "Habite                                                              7\n",
      "DireitosCreditórios                                                 7\n",
      "estoque após a emissão                                              7\n",
      "obras                                                               7\n",
      "imóvel onde está sendo desenvolvido o empreendimento (avaliado      7\n",
      "Empreendimento                                                      7\n",
      "% das vendas futuras                                                7\n",
      "Reserva (R$                                                         6\n",
      "jurídicas                                                           6\n",
      "comercialização                                                     5\n",
      "ações                                                               5\n",
      "volume                                                              4\n",
      "estacionamento                                                      4\n",
      "juros                                                               4\n",
      "saldo devedor                                                       4\n",
      "shopping                                                            4\n",
      "Name: count, dtype: int64\n",
      "0 tokens ainda fora da classificação:\n",
      "[]\n"
     ]
    },
    {
     "name": "stderr",
     "output_type": "stream",
     "text": [
      "/Users/pedroauler/Desktop/MMZR-summer/limpeza.py:296: FutureWarning: The previous implementation of stack is deprecated and will be removed in a future version of pandas. See the What's New notes for pandas 2.1.0 for details. Specify future_stack=True to adopt the new implementation and silence this warning.\n",
      "  tokens_suspeitos = (gar_cols.stack(dropna=True)\n"
     ]
    }
   ],
   "source": [
    "# %%\n",
    "# Imports\n",
    "import pandas as pd\n",
    "import re\n",
    "from unidecode import unidecode\n",
    "from pathlib import Path\n",
    "from limpeza import normalizar\n",
    "\n",
    "#\n",
    "ARQ_CLASS   = Path('data/Estudo_de_Garantias_v3.xlsx')\n",
    "ARQ_LIMPAS  = Path('data/garantias_limpas.csv')\n",
    "ARQ_SAIDA   = Path('data/garantias_cod.csv')"
   ]
  },
  {
   "cell_type": "code",
   "execution_count": 2,
   "id": "aec5b6bb",
   "metadata": {},
   "outputs": [
    {
     "name": "stdout",
     "output_type": "stream",
     "text": [
      "→ Gerando dicionários a partir de data/Estudo_de_Garantias_v3.xlsx\n",
      "Encontrados 15 aliases → código e 28 subclasses oficiais.\n"
     ]
    }
   ],
   "source": [
    "# %%\n",
    "# 1) Constrói os dicionários oficiais a partir da planilha de classificação\n",
    "print(\"→ Gerando dicionários a partir de\", ARQ_CLASS)\n",
    "\n",
    "df_class = pd.read_excel(ARQ_CLASS, sheet_name='Classificação', header=1, dtype=str)\n",
    "\n",
    "CODIGOS_OFICIAIS   = set(df_class['Código'].dropna().str.upper())\n",
    "SUBCLASSES_OFICIAIS = {normalizar(s) for s in df_class['Subclasse'].dropna()}\n",
    "\n",
    "# Mapeia todos os textos em \"Tipos de Garantia\" para o código respectivo\n",
    "ALIAS2CODE = {}\n",
    "for _, row in df_class[['Tipos de Garantia', 'Código']].dropna().iterrows():\n",
    "    alias = normalizar(row['Tipos de Garantia'])\n",
    "    code  = str(row['Código']).upper().strip()\n",
    "    # Se houver duplicata, mantém o primeiro encontrado\n",
    "    ALIAS2CODE.setdefault(alias, code)\n",
    "\n",
    "print(f\"Encontrados {len(ALIAS2CODE)} aliases → código e {len(SUBCLASSES_OFICIAIS)} subclasses oficiais.\")\n",
    "\n",
    "\n"
   ]
  },
  {
   "cell_type": "code",
   "execution_count": 3,
   "id": "dbe81d31",
   "metadata": {},
   "outputs": [],
   "source": [
    "# %%\n",
    "# Ajustes manuais opcionais (exemplos)\n",
    "ADICIONAIS = {\n",
    "    'fr': 'FR',            # fundo reserva já em sigla\n",
    "    'cs': 'CS',            # cash sweep\n",
    "    'r':  'R',             # recompra\n",
    "}\n",
    "ALIAS2CODE.update(ADICIONAIS)\n"
   ]
  },
  {
   "cell_type": "code",
   "execution_count": 4,
   "id": "a71f75aa",
   "metadata": {},
   "outputs": [
    {
     "name": "stdout",
     "output_type": "stream",
     "text": [
      "→ Lendo data/garantias_limpas.csv\n"
     ]
    }
   ],
   "source": [
    "# %%\n",
    "print(\"→ Lendo\", ARQ_LIMPAS)\n",
    "\n",
    "df = pd.read_csv(ARQ_LIMPAS, dtype=str)\n",
    "\n",
    "token_cols = [c for c in df.columns if c.startswith('G')]\n",
    "\n",
    "# Função que traduz um token se for tipo de garantia\n",
    "\n",
    "def traduz_token(tok):\n",
    "    if pd.isna(tok) or not isinstance(tok, str):\n",
    "        return tok\n",
    "    key = normalizar(tok)\n",
    "    return ALIAS2CODE.get(key, tok)  # retorna código se achar, senão mantém\n",
    "\n",
    "for col in token_cols:\n",
    "    df[col] = df[col].apply(traduz_token)"
   ]
  },
  {
   "cell_type": "code",
   "execution_count": 5,
   "id": "2338e447",
   "metadata": {},
   "outputs": [
    {
     "name": "stdout",
     "output_type": "stream",
     "text": [
      "→ Salvando resultado em data/garantias_cod.csv\n",
      "\n",
      "Amostra das primeiras 25 linhas depois do mapeamento:\n",
      "     Fundo       Ativo       G1   G2       G3   G4      G5   G6   G7   G8  \\\n",
      "0   VGIR11  22L1013767      spe   AF      NaN  NaN     NaN  NaN  NaN  NaN   \n",
      "1   VGIR11  22E1211649  terreno   AF      spe   CF     NaN  NaN  NaN  NaN   \n",
      "2   VGIR11  23K1511855      spe   AF        F  NaN     NaN  NaN  NaN  NaN   \n",
      "3   VGIR11  24A1828538   imovel   AF        A  NaN     NaN  NaN  NaN  NaN   \n",
      "4   VGIR11  22K1684666      spe   AF      NaN  NaN     NaN  NaN  NaN  NaN   \n",
      "5   VGIR11  22D0836679       CL  NaN      NaN  NaN     NaN  NaN  NaN  NaN   \n",
      "6   VGIR11  24G1972260   imovel   AF       CF    A     NaN  NaN  NaN  NaN   \n",
      "7   VGIR11  24E1753141   imovel   AF  terreno   CF       A  NaN  NaN  NaN   \n",
      "8   VGIR11  23J1928151   imovel   AF      spe   CF       F  NaN  NaN  NaN   \n",
      "9   VGIR11  21L0002653  terreno   AF      NaN  NaN     NaN  NaN  NaN  NaN   \n",
      "10  VGIR11  23F1688312  terreno   AF      spe   CF       A  NaN  NaN  NaN   \n",
      "11  VGIR11  20J0764341  terreno   AF      NaN  NaN     NaN  NaN  NaN  NaN   \n",
      "12  VGIR11  21F1076974      spe   AF      NaN  NaN     NaN  NaN  NaN  NaN   \n",
      "13  VGIR11  23D1611321  terreno   AF      spe   CF       A    F  NaN  NaN   \n",
      "14  VGIR11  22D0847835      spe   AF      NaN  NaN     NaN  NaN  NaN  NaN   \n",
      "15  VGIR11  23L1958573      spe   AF       CF    A     NaN  NaN  NaN  NaN   \n",
      "16  VGIR11  22K1377349       CF  NaN      NaN  NaN     NaN  NaN  NaN  NaN   \n",
      "17  VGIR11  21E0608916  terreno   AF      spe   CF  socios  NaN  NaN  NaN   \n",
      "18  VGIR11  22E1313665      spe   AF       CF    A     NaN  NaN  NaN  NaN   \n",
      "19  VGIR11  24I1148077  terreno   AF      NaN  NaN     NaN  NaN  NaN  NaN   \n",
      "20  VGIR11  23G1265217  terreno   AF      spe   CF       F  NaN  NaN  NaN   \n",
      "21  VGIR11  21F1076950      spe   AF      NaN  NaN     NaN  NaN  NaN  NaN   \n",
      "22  VGIR11  22B0512752  terreno   AF      spe    A     NaN  NaN  NaN  NaN   \n",
      "23  VGIR11  20J0764140  terreno   AF      NaN  NaN     NaN  NaN  NaN  NaN   \n",
      "24  VGIR11  22L0179634  terreno   AF      spe   CF       F  NaN  NaN  NaN   \n",
      "\n",
      "     G9  G10  G11  G12  \n",
      "0   NaN  NaN  NaN  NaN  \n",
      "1   NaN  NaN  NaN  NaN  \n",
      "2   NaN  NaN  NaN  NaN  \n",
      "3   NaN  NaN  NaN  NaN  \n",
      "4   NaN  NaN  NaN  NaN  \n",
      "5   NaN  NaN  NaN  NaN  \n",
      "6   NaN  NaN  NaN  NaN  \n",
      "7   NaN  NaN  NaN  NaN  \n",
      "8   NaN  NaN  NaN  NaN  \n",
      "9   NaN  NaN  NaN  NaN  \n",
      "10  NaN  NaN  NaN  NaN  \n",
      "11  NaN  NaN  NaN  NaN  \n",
      "12  NaN  NaN  NaN  NaN  \n",
      "13  NaN  NaN  NaN  NaN  \n",
      "14  NaN  NaN  NaN  NaN  \n",
      "15  NaN  NaN  NaN  NaN  \n",
      "16  NaN  NaN  NaN  NaN  \n",
      "17  NaN  NaN  NaN  NaN  \n",
      "18  NaN  NaN  NaN  NaN  \n",
      "19  NaN  NaN  NaN  NaN  \n",
      "20  NaN  NaN  NaN  NaN  \n",
      "21  NaN  NaN  NaN  NaN  \n",
      "22  NaN  NaN  NaN  NaN  \n",
      "23  NaN  NaN  NaN  NaN  \n",
      "24  NaN  NaN  NaN  NaN  \n"
     ]
    }
   ],
   "source": [
    "# %%\n",
    "print(\"→ Salvando resultado em\", ARQ_SAIDA)\n",
    "\n",
    "df.to_csv(ARQ_SAIDA, index=False)\n",
    "\n",
    "print(\"\\nAmostra das primeiras 25 linhas depois do mapeamento:\")\n",
    "print(df.head(25))"
   ]
  },
  {
   "cell_type": "code",
   "execution_count": null,
   "id": "97cf2519",
   "metadata": {},
   "outputs": [],
   "source": []
  }
 ],
 "metadata": {
  "kernelspec": {
   "display_name": "mmzr_env",
   "language": "python",
   "name": "python3"
  },
  "language_info": {
   "codemirror_mode": {
    "name": "ipython",
    "version": 3
   },
   "file_extension": ".py",
   "mimetype": "text/x-python",
   "name": "python",
   "nbconvert_exporter": "python",
   "pygments_lexer": "ipython3",
   "version": "3.10.18"
  }
 },
 "nbformat": 4,
 "nbformat_minor": 5
}
