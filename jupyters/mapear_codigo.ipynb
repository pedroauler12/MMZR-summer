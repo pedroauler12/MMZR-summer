{
 "cells": [
  {
   "cell_type": "code",
   "execution_count": 1,
   "id": "ce2098be",
   "metadata": {},
   "outputs": [
    {
     "ename": "KeyError",
     "evalue": "\"None of [Index(['Fundo', 'Ativo', 'Garantia'], dtype='object')] are in the [columns]\"",
     "output_type": "error",
     "traceback": [
      "\u001b[0;31m---------------------------------------------------------------------------\u001b[0m",
      "\u001b[0;31mKeyError\u001b[0m                                  Traceback (most recent call last)",
      "Cell \u001b[0;32mIn[1], line 7\u001b[0m\n\u001b[1;32m      5\u001b[0m \u001b[38;5;28;01mfrom\u001b[39;00m\u001b[38;5;250m \u001b[39m\u001b[38;5;21;01munidecode\u001b[39;00m\u001b[38;5;250m \u001b[39m\u001b[38;5;28;01mimport\u001b[39;00m unidecode\n\u001b[1;32m      6\u001b[0m \u001b[38;5;28;01mfrom\u001b[39;00m\u001b[38;5;250m \u001b[39m\u001b[38;5;21;01mpathlib\u001b[39;00m\u001b[38;5;250m \u001b[39m\u001b[38;5;28;01mimport\u001b[39;00m Path\n\u001b[0;32m----> 7\u001b[0m \u001b[38;5;28;01mfrom\u001b[39;00m\u001b[38;5;250m \u001b[39m\u001b[38;5;21;01mlimpeza\u001b[39;00m\u001b[38;5;250m \u001b[39m\u001b[38;5;28;01mimport\u001b[39;00m normalizar\n\u001b[1;32m      9\u001b[0m \u001b[38;5;66;03m#\u001b[39;00m\n\u001b[1;32m     10\u001b[0m ARQ_CLASS   \u001b[38;5;241m=\u001b[39m Path(\u001b[38;5;124m'\u001b[39m\u001b[38;5;124mdata/Estudo_de_Garantias_v3.xlsx\u001b[39m\u001b[38;5;124m'\u001b[39m)\n",
      "File \u001b[0;32m~/Desktop/MMZR-summer/limpeza.py:63\u001b[0m\n\u001b[1;32m     60\u001b[0m df_original \u001b[38;5;241m=\u001b[39m pd\u001b[38;5;241m.\u001b[39mread_csv(ARQ_FIN)\n\u001b[1;32m     62\u001b[0m \u001b[38;5;66;03m# usamos só as colunas mínimas\u001b[39;00m\n\u001b[0;32m---> 63\u001b[0m df \u001b[38;5;241m=\u001b[39m \u001b[43mdf_original\u001b[49m\u001b[43m[\u001b[49m\u001b[43m[\u001b[49m\u001b[38;5;124;43m'\u001b[39;49m\u001b[38;5;124;43mFundo\u001b[39;49m\u001b[38;5;124;43m'\u001b[39;49m\u001b[43m,\u001b[49m\u001b[38;5;124;43m'\u001b[39;49m\u001b[38;5;124;43mAtivo\u001b[39;49m\u001b[38;5;124;43m'\u001b[39;49m\u001b[43m,\u001b[49m\u001b[38;5;124;43m'\u001b[39;49m\u001b[38;5;124;43mGarantia\u001b[39;49m\u001b[38;5;124;43m'\u001b[39;49m\u001b[43m]\u001b[49m\u001b[43m]\u001b[49m\u001b[38;5;241m.\u001b[39mcopy()\n\u001b[1;32m     65\u001b[0m \u001b[38;5;66;03m# remove prefixos tipo \"- GARANTIAS ...\" etc\u001b[39;00m\n\u001b[1;32m     66\u001b[0m df[\u001b[38;5;124m'\u001b[39m\u001b[38;5;124mGarantia\u001b[39m\u001b[38;5;124m'\u001b[39m] \u001b[38;5;241m=\u001b[39m df[\u001b[38;5;124m'\u001b[39m\u001b[38;5;124mGarantia\u001b[39m\u001b[38;5;124m'\u001b[39m]\u001b[38;5;241m.\u001b[39mstr\u001b[38;5;241m.\u001b[39mreplace(\u001b[38;5;124mr\u001b[39m\u001b[38;5;124m'\u001b[39m\u001b[38;5;124m^\u001b[39m\u001b[38;5;124m\\\u001b[39m\u001b[38;5;124ms*(?:-+|•+|GARANTIAS)\u001b[39m\u001b[38;5;124m\\\u001b[39m\u001b[38;5;124ms*\u001b[39m\u001b[38;5;124m'\u001b[39m, \u001b[38;5;124m'\u001b[39m\u001b[38;5;124m'\u001b[39m, regex\u001b[38;5;241m=\u001b[39m\u001b[38;5;28;01mTrue\u001b[39;00m)\n",
      "File \u001b[0;32m~/miniforge3/envs/mmzr_env/lib/python3.10/site-packages/pandas/core/frame.py:4113\u001b[0m, in \u001b[0;36mDataFrame.__getitem__\u001b[0;34m(self, key)\u001b[0m\n\u001b[1;32m   4111\u001b[0m     \u001b[38;5;28;01mif\u001b[39;00m is_iterator(key):\n\u001b[1;32m   4112\u001b[0m         key \u001b[38;5;241m=\u001b[39m \u001b[38;5;28mlist\u001b[39m(key)\n\u001b[0;32m-> 4113\u001b[0m     indexer \u001b[38;5;241m=\u001b[39m \u001b[38;5;28;43mself\u001b[39;49m\u001b[38;5;241;43m.\u001b[39;49m\u001b[43mcolumns\u001b[49m\u001b[38;5;241;43m.\u001b[39;49m\u001b[43m_get_indexer_strict\u001b[49m\u001b[43m(\u001b[49m\u001b[43mkey\u001b[49m\u001b[43m,\u001b[49m\u001b[43m \u001b[49m\u001b[38;5;124;43m\"\u001b[39;49m\u001b[38;5;124;43mcolumns\u001b[39;49m\u001b[38;5;124;43m\"\u001b[39;49m\u001b[43m)\u001b[49m[\u001b[38;5;241m1\u001b[39m]\n\u001b[1;32m   4115\u001b[0m \u001b[38;5;66;03m# take() does not accept boolean indexers\u001b[39;00m\n\u001b[1;32m   4116\u001b[0m \u001b[38;5;28;01mif\u001b[39;00m \u001b[38;5;28mgetattr\u001b[39m(indexer, \u001b[38;5;124m\"\u001b[39m\u001b[38;5;124mdtype\u001b[39m\u001b[38;5;124m\"\u001b[39m, \u001b[38;5;28;01mNone\u001b[39;00m) \u001b[38;5;241m==\u001b[39m \u001b[38;5;28mbool\u001b[39m:\n",
      "File \u001b[0;32m~/miniforge3/envs/mmzr_env/lib/python3.10/site-packages/pandas/core/indexes/base.py:6212\u001b[0m, in \u001b[0;36mIndex._get_indexer_strict\u001b[0;34m(self, key, axis_name)\u001b[0m\n\u001b[1;32m   6209\u001b[0m \u001b[38;5;28;01melse\u001b[39;00m:\n\u001b[1;32m   6210\u001b[0m     keyarr, indexer, new_indexer \u001b[38;5;241m=\u001b[39m \u001b[38;5;28mself\u001b[39m\u001b[38;5;241m.\u001b[39m_reindex_non_unique(keyarr)\n\u001b[0;32m-> 6212\u001b[0m \u001b[38;5;28;43mself\u001b[39;49m\u001b[38;5;241;43m.\u001b[39;49m\u001b[43m_raise_if_missing\u001b[49m\u001b[43m(\u001b[49m\u001b[43mkeyarr\u001b[49m\u001b[43m,\u001b[49m\u001b[43m \u001b[49m\u001b[43mindexer\u001b[49m\u001b[43m,\u001b[49m\u001b[43m \u001b[49m\u001b[43maxis_name\u001b[49m\u001b[43m)\u001b[49m\n\u001b[1;32m   6214\u001b[0m keyarr \u001b[38;5;241m=\u001b[39m \u001b[38;5;28mself\u001b[39m\u001b[38;5;241m.\u001b[39mtake(indexer)\n\u001b[1;32m   6215\u001b[0m \u001b[38;5;28;01mif\u001b[39;00m \u001b[38;5;28misinstance\u001b[39m(key, Index):\n\u001b[1;32m   6216\u001b[0m     \u001b[38;5;66;03m# GH 42790 - Preserve name from an Index\u001b[39;00m\n",
      "File \u001b[0;32m~/miniforge3/envs/mmzr_env/lib/python3.10/site-packages/pandas/core/indexes/base.py:6261\u001b[0m, in \u001b[0;36mIndex._raise_if_missing\u001b[0;34m(self, key, indexer, axis_name)\u001b[0m\n\u001b[1;32m   6259\u001b[0m \u001b[38;5;28;01mif\u001b[39;00m nmissing:\n\u001b[1;32m   6260\u001b[0m     \u001b[38;5;28;01mif\u001b[39;00m nmissing \u001b[38;5;241m==\u001b[39m \u001b[38;5;28mlen\u001b[39m(indexer):\n\u001b[0;32m-> 6261\u001b[0m         \u001b[38;5;28;01mraise\u001b[39;00m \u001b[38;5;167;01mKeyError\u001b[39;00m(\u001b[38;5;124mf\u001b[39m\u001b[38;5;124m\"\u001b[39m\u001b[38;5;124mNone of [\u001b[39m\u001b[38;5;132;01m{\u001b[39;00mkey\u001b[38;5;132;01m}\u001b[39;00m\u001b[38;5;124m] are in the [\u001b[39m\u001b[38;5;132;01m{\u001b[39;00maxis_name\u001b[38;5;132;01m}\u001b[39;00m\u001b[38;5;124m]\u001b[39m\u001b[38;5;124m\"\u001b[39m)\n\u001b[1;32m   6263\u001b[0m     not_found \u001b[38;5;241m=\u001b[39m \u001b[38;5;28mlist\u001b[39m(ensure_index(key)[missing_mask\u001b[38;5;241m.\u001b[39mnonzero()[\u001b[38;5;241m0\u001b[39m]]\u001b[38;5;241m.\u001b[39munique())\n\u001b[1;32m   6264\u001b[0m     \u001b[38;5;28;01mraise\u001b[39;00m \u001b[38;5;167;01mKeyError\u001b[39;00m(\u001b[38;5;124mf\u001b[39m\u001b[38;5;124m\"\u001b[39m\u001b[38;5;132;01m{\u001b[39;00mnot_found\u001b[38;5;132;01m}\u001b[39;00m\u001b[38;5;124m not in index\u001b[39m\u001b[38;5;124m\"\u001b[39m)\n",
      "\u001b[0;31mKeyError\u001b[0m: \"None of [Index(['Fundo', 'Ativo', 'Garantia'], dtype='object')] are in the [columns]\""
     ]
    }
   ],
   "source": [
    "# %%\n",
    "# Imports\n",
    "import pandas as pd\n",
    "import re\n",
    "from unidecode import unidecode\n",
    "from pathlib import Path\n",
    "from limpeza import normalizar\n",
    "\n",
    "#\n",
    "ARQ_CLASS   = Path('data/Estudo_de_Garantias_v3.xlsx')\n",
    "ARQ_LIMPAS  = Path('data/garantias_limpas.csv')\n",
    "ARQ_SAIDA   = Path('data/garantias_cod.csv')"
   ]
  },
  {
   "cell_type": "code",
   "execution_count": 2,
   "id": "aec5b6bb",
   "metadata": {},
   "outputs": [
    {
     "name": "stdout",
     "output_type": "stream",
     "text": [
      "→ Gerando dicionários a partir de data/Estudo_de_Garantias_v3.xlsx\n",
      "Encontrados 15 aliases → código e 28 subclasses oficiais.\n"
     ]
    }
   ],
   "source": [
    "# %%\n",
    "# 1) Constrói os dicionários oficiais a partir da planilha de classificação\n",
    "print(\"→ Gerando dicionários a partir de\", ARQ_CLASS)\n",
    "\n",
    "df_class = pd.read_excel(ARQ_CLASS, sheet_name='Classificação', header=1, dtype=str)\n",
    "\n",
    "CODIGOS_OFICIAIS   = set(df_class['Código'].dropna().str.upper())\n",
    "SUBCLASSES_OFICIAIS = {normalizar(s) for s in df_class['Subclasse'].dropna()}\n",
    "\n",
    "# Mapeia todos os textos em \"Tipos de Garantia\" para o código respectivo\n",
    "ALIAS2CODE = {}\n",
    "for _, row in df_class[['Tipos de Garantia', 'Código']].dropna().iterrows():\n",
    "    alias = normalizar(row['Tipos de Garantia'])\n",
    "    code  = str(row['Código']).upper().strip()\n",
    "    # Se houver duplicata, mantém o primeiro encontrado\n",
    "    ALIAS2CODE.setdefault(alias, code)\n",
    "\n",
    "print(f\"Encontrados {len(ALIAS2CODE)} aliases → código e {len(SUBCLASSES_OFICIAIS)} subclasses oficiais.\")\n",
    "\n",
    "\n"
   ]
  },
  {
   "cell_type": "code",
   "execution_count": 3,
   "id": "dbe81d31",
   "metadata": {},
   "outputs": [],
   "source": [
    "# %%\n",
    "# Ajustes manuais opcionais (exemplos)\n",
    "ADICIONAIS = {\n",
    "    'fr': 'FR',            # fundo reserva já em sigla\n",
    "    'cs': 'CS',            # cash sweep\n",
    "    'r':  'R',             # recompra\n",
    "}\n",
    "ALIAS2CODE.update(ADICIONAIS)\n"
   ]
  },
  {
   "cell_type": "code",
   "execution_count": 4,
   "id": "a71f75aa",
   "metadata": {},
   "outputs": [
    {
     "name": "stdout",
     "output_type": "stream",
     "text": [
      "→ Lendo data/garantias_limpas.csv\n"
     ]
    }
   ],
   "source": [
    "# %%\n",
    "print(\"→ Lendo\", ARQ_LIMPAS)\n",
    "\n",
    "df = pd.read_csv(ARQ_LIMPAS, dtype=str)\n",
    "\n",
    "token_cols = [c for c in df.columns if c.startswith('G')]\n",
    "\n",
    "# Função que traduz um token se for tipo de garantia\n",
    "\n",
    "def traduz_token(tok):\n",
    "    if pd.isna(tok) or not isinstance(tok, str):\n",
    "        return tok\n",
    "    key = normalizar(tok)\n",
    "    return ALIAS2CODE.get(key, tok)  # retorna código se achar, senão mantém\n",
    "\n",
    "for col in token_cols:\n",
    "    df[col] = df[col].apply(traduz_token)"
   ]
  },
  {
   "cell_type": "code",
   "execution_count": 5,
   "id": "2338e447",
   "metadata": {},
   "outputs": [
    {
     "name": "stdout",
     "output_type": "stream",
     "text": [
      "→ Salvando resultado em data/garantias_cod.csv\n",
      "\n",
      "Amostra das primeiras 25 linhas depois do mapeamento:\n",
      "     Fundo       Ativo       G1   G2       G3   G4      G5   G6   G7   G8  \\\n",
      "0   VGIR11  22L1013767      spe   AF      NaN  NaN     NaN  NaN  NaN  NaN   \n",
      "1   VGIR11  22E1211649  terreno   AF      spe   CF     NaN  NaN  NaN  NaN   \n",
      "2   VGIR11  23K1511855      spe   AF        F  NaN     NaN  NaN  NaN  NaN   \n",
      "3   VGIR11  24A1828538   imovel   AF        A  NaN     NaN  NaN  NaN  NaN   \n",
      "4   VGIR11  22K1684666      spe   AF      NaN  NaN     NaN  NaN  NaN  NaN   \n",
      "5   VGIR11  22D0836679       CL  NaN      NaN  NaN     NaN  NaN  NaN  NaN   \n",
      "6   VGIR11  24G1972260   imovel   AF       CF    A     NaN  NaN  NaN  NaN   \n",
      "7   VGIR11  24E1753141   imovel   AF  terreno   CF       A  NaN  NaN  NaN   \n",
      "8   VGIR11  23J1928151   imovel   AF      spe   CF       F  NaN  NaN  NaN   \n",
      "9   VGIR11  21L0002653  terreno   AF      NaN  NaN     NaN  NaN  NaN  NaN   \n",
      "10  VGIR11  23F1688312  terreno   AF      spe   CF       A  NaN  NaN  NaN   \n",
      "11  VGIR11  20J0764341  terreno   AF      NaN  NaN     NaN  NaN  NaN  NaN   \n",
      "12  VGIR11  21F1076974      spe   AF      NaN  NaN     NaN  NaN  NaN  NaN   \n",
      "13  VGIR11  23D1611321  terreno   AF      spe   CF       A    F  NaN  NaN   \n",
      "14  VGIR11  22D0847835      spe   AF      NaN  NaN     NaN  NaN  NaN  NaN   \n",
      "15  VGIR11  23L1958573      spe   AF       CF    A     NaN  NaN  NaN  NaN   \n",
      "16  VGIR11  22K1377349       CF  NaN      NaN  NaN     NaN  NaN  NaN  NaN   \n",
      "17  VGIR11  21E0608916  terreno   AF      spe   CF  socios  NaN  NaN  NaN   \n",
      "18  VGIR11  22E1313665      spe   AF       CF    A     NaN  NaN  NaN  NaN   \n",
      "19  VGIR11  24I1148077  terreno   AF      NaN  NaN     NaN  NaN  NaN  NaN   \n",
      "20  VGIR11  23G1265217  terreno   AF      spe   CF       F  NaN  NaN  NaN   \n",
      "21  VGIR11  21F1076950      spe   AF      NaN  NaN     NaN  NaN  NaN  NaN   \n",
      "22  VGIR11  22B0512752  terreno   AF      spe    A     NaN  NaN  NaN  NaN   \n",
      "23  VGIR11  20J0764140  terreno   AF      NaN  NaN     NaN  NaN  NaN  NaN   \n",
      "24  VGIR11  22L0179634  terreno   AF      spe   CF       F  NaN  NaN  NaN   \n",
      "\n",
      "     G9  G10  G11  G12  \n",
      "0   NaN  NaN  NaN  NaN  \n",
      "1   NaN  NaN  NaN  NaN  \n",
      "2   NaN  NaN  NaN  NaN  \n",
      "3   NaN  NaN  NaN  NaN  \n",
      "4   NaN  NaN  NaN  NaN  \n",
      "5   NaN  NaN  NaN  NaN  \n",
      "6   NaN  NaN  NaN  NaN  \n",
      "7   NaN  NaN  NaN  NaN  \n",
      "8   NaN  NaN  NaN  NaN  \n",
      "9   NaN  NaN  NaN  NaN  \n",
      "10  NaN  NaN  NaN  NaN  \n",
      "11  NaN  NaN  NaN  NaN  \n",
      "12  NaN  NaN  NaN  NaN  \n",
      "13  NaN  NaN  NaN  NaN  \n",
      "14  NaN  NaN  NaN  NaN  \n",
      "15  NaN  NaN  NaN  NaN  \n",
      "16  NaN  NaN  NaN  NaN  \n",
      "17  NaN  NaN  NaN  NaN  \n",
      "18  NaN  NaN  NaN  NaN  \n",
      "19  NaN  NaN  NaN  NaN  \n",
      "20  NaN  NaN  NaN  NaN  \n",
      "21  NaN  NaN  NaN  NaN  \n",
      "22  NaN  NaN  NaN  NaN  \n",
      "23  NaN  NaN  NaN  NaN  \n",
      "24  NaN  NaN  NaN  NaN  \n"
     ]
    }
   ],
   "source": [
    "# %%\n",
    "print(\"→ Salvando resultado em\", ARQ_SAIDA)\n",
    "\n",
    "df.to_csv(ARQ_SAIDA, index=False)\n",
    "\n",
    "print(\"\\nAmostra das primeiras 25 linhas depois do mapeamento:\")\n",
    "print(df.head(25))"
   ]
  },
  {
   "cell_type": "code",
   "execution_count": null,
   "id": "97cf2519",
   "metadata": {},
   "outputs": [],
   "source": []
  },
  {
   "cell_type": "code",
   "execution_count": null,
   "id": "e074da2f",
   "metadata": {},
   "outputs": [],
   "source": []
  }
 ],
 "metadata": {
  "kernelspec": {
   "display_name": "mmzr_env",
   "language": "python",
   "name": "python3"
  },
  "language_info": {
   "codemirror_mode": {
    "name": "ipython",
    "version": 3
   },
   "file_extension": ".py",
   "mimetype": "text/x-python",
   "name": "python",
   "nbconvert_exporter": "python",
   "pygments_lexer": "ipython3",
   "version": "3.10.18"
  }
 },
 "nbformat": 4,
 "nbformat_minor": 5
}
